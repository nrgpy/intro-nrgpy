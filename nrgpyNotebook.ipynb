{
 "cells": [
  {
   "cell_type": "code",
   "execution_count": null,
   "id": "10d12fdb-fc54-4615-9f3f-1540e0088b79",
   "metadata": {},
   "outputs": [],
   "source": [
    "import nrgpy\n",
    "import matplotlib.pyplot as plt\n",
    "import pandas as pd"
   ]
  },
  {
   "cell_type": "code",
   "execution_count": null,
   "id": "de46725a-d3b5-47a7-bb03-0638abd3d83b",
   "metadata": {},
   "outputs": [],
   "source": [
    "client_id = \"\"\n",
    "client_secret = \"\""
   ]
  },
  {
   "cell_type": "code",
   "execution_count": null,
   "id": "a428e490-39d1-41bc-be19-ee43565aff04",
   "metadata": {},
   "outputs": [],
   "source": [
    "sites = nrgpy.cloud_sites(\n",
    "    client_id=client_id,\n",
    "    client_secret=client_secret,\n",
    ")"
   ]
  },
  {
   "cell_type": "code",
   "execution_count": null,
   "id": "242c5ad4-5ece-4934-a65e-180b2e067666",
   "metadata": {},
   "outputs": [],
   "source": [
    "sites.sites_df"
   ]
  },
  {
   "cell_type": "code",
   "execution_count": null,
   "id": "8dbf24d3-fe57-40cb-94ab-00c6622a2284",
   "metadata": {},
   "outputs": [],
   "source": [
    "exporter = nrgpy.cloud_export(\n",
    "    client_id=client_id,\n",
    "    client_secret=client_secret,\n",
    "    site_number=110,\n",
    "    start_date=\"2022-04-01\",\n",
    "    end_date=\"2022-05-15\",\n",
    ")"
   ]
  },
  {
   "cell_type": "code",
   "execution_count": null,
   "id": "9b10bc8b-da31-4e7a-9b29-afecc06d9cf9",
   "metadata": {},
   "outputs": [],
   "source": [
    "exporter.export()"
   ]
  },
  {
   "cell_type": "code",
   "execution_count": null,
   "id": "3a951ea0-86af-4260-b3a9-5eb8ec6a7b05",
   "metadata": {},
   "outputs": [],
   "source": [
    "reader = nrgpy.sympro_txt_read(filename=exporter.export_filepath)"
   ]
  },
  {
   "cell_type": "code",
   "execution_count": null,
   "id": "75b69b04-4216-4458-97a7-07f0129ba902",
   "metadata": {},
   "outputs": [],
   "source": [
    "reader.ch_info"
   ]
  },
  {
   "cell_type": "code",
   "execution_count": null,
   "id": "d75b20e9-01b9-4dcf-8152-e1e062c62cdc",
   "metadata": {},
   "outputs": [],
   "source": [
    "ws_channels = reader.ch_info['Channel:'].loc[reader.ch_info['Units:'] == 'm/s']"
   ]
  },
  {
   "cell_type": "code",
   "execution_count": null,
   "id": "af7884c1-16aa-4ba1-9fba-02fd13286cea",
   "metadata": {},
   "outputs": [],
   "source": [
    "fig, ax = plt.subplots(\n",
    "    figsize=(12, 5),\n",
    ")\n",
    "\n",
    "for ch in [c for c in ws_channels if int(c) < 20]:\n",
    "    plot_col = [col for col in reader.data.columns if f\"Ch{ch}_\" in col and \"avg\" in col.lower()]\n",
    "    ax.plot(\n",
    "        reader.data['Timestamp'],\n",
    "        reader.data[plot_col],\n",
    "    )\n",
    "    \n",
    "plt.title(f\"Wind speed plot for site {reader.site_description}\")\n",
    "plt.legend(labels=[f\"Ch{c}\" for c in ws_channels])"
   ]
  },
  {
   "cell_type": "code",
   "execution_count": null,
   "id": "40602e8f",
   "metadata": {},
   "outputs": [],
   "source": [
    "reader.ch_info.loc[(reader.ch_info['Type:'] == \"Anemometer\") | (reader.ch_info['Type:'] == \"Vane\")]"
   ]
  },
  {
   "cell_type": "code",
   "execution_count": null,
   "id": "a58790c5-6131-4265-aa01-4d7749d24e5e",
   "metadata": {},
   "outputs": [],
   "source": [
    "import numpy as np\n",
    "from windrose import plot_windrose\n",
    "import matplotlib.cm as cm\n",
    "\n",
    "anem_col = [col for col in reader.data.columns if \"Ch1_\" in col and \"avg\" in col.lower()]\n",
    "vane_col = [col for col in reader.data.columns if \"Ch13_\" in col and \"avg\" in col.lower()]\n",
    "\n",
    "windrose_df = pd.DataFrame()\n",
    "windrose_df['speed'] = reader.data[anem_col]\n",
    "windrose_df['direction'] = reader.data[vane_col]\n",
    "\n",
    "plot_windrose(windrose_df, kind='bar', bins=np.arange(0.01,8,1), cmap=cm.hot, lw=3)\n",
    "\n",
    "plt.title(f\"Wind rose diagram for {reader.site_description}\")\n",
    "plt.show()"
   ]
  }
 ],
 "metadata": {
  "interpreter": {
   "hash": "0a8937c81694391020a928fa7363b0e224aef9c5f07bde0041c82ee6dc0566c9"
  },
  "kernelspec": {
   "display_name": "Python 3.10.4 ('nrgpy-ex': venv)",
   "language": "python",
   "name": "python3"
  },
  "language_info": {
   "codemirror_mode": {
    "name": "ipython",
    "version": 3
   },
   "file_extension": ".py",
   "mimetype": "text/x-python",
   "name": "python",
   "nbconvert_exporter": "python",
   "pygments_lexer": "ipython3",
   "version": "3.10.4"
  }
 },
 "nbformat": 4,
 "nbformat_minor": 5
}
