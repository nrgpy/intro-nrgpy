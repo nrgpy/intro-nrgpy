{
 "cells": [
  {
   "cell_type": "markdown",
   "id": "e707e16d",
   "metadata": {},
   "source": [
    "# ![NRGPy](https://www.gravatar.com/avatar/6282094b092c756acc9f7552b164edfe?s=24) nrgpy Example Notebook"
   ]
  },
  {
   "cell_type": "code",
   "execution_count": null,
   "id": "10d12fdb-fc54-4615-9f3f-1540e0088b79",
   "metadata": {},
   "outputs": [],
   "source": [
    "import nrgpy\n",
    "import pandas as pd"
   ]
  },
  {
   "cell_type": "markdown",
   "id": "445a2f60",
   "metadata": {},
   "source": [
    "## API Credentials\n",
    "\n",
    "Retrieve your NRG Cloud API Credentials and paste them in the cell below.\n",
    "\n",
    "https://cloud.nrgsystems.com/data-manager/api-setup\n",
    "\n",
    "Alternately, put the credentials in a file named `creds.py` and replace the cell below with:\n",
    "\n",
    "```python notebook\n",
    "from creds import client_id, client_secret\n",
    "```"
   ]
  },
  {
   "cell_type": "code",
   "execution_count": null,
   "id": "de46725a-d3b5-47a7-bb03-0638abd3d83b",
   "metadata": {},
   "outputs": [],
   "source": [
    "client_id = \"your-client-id-here\"\n",
    "client_secret = \"your-client-secret-here\""
   ]
  },
  {
   "cell_type": "code",
   "execution_count": null,
   "id": "a428e490-39d1-41bc-be19-ee43565aff04",
   "metadata": {},
   "outputs": [],
   "source": [
    "sites = nrgpy.cloud_sites(\n",
    "    client_id=client_id,\n",
    "    client_secret=client_secret,\n",
    ")"
   ]
  },
  {
   "cell_type": "code",
   "execution_count": null,
   "id": "242c5ad4-5ece-4934-a65e-180b2e067666",
   "metadata": {},
   "outputs": [],
   "source": [
    "sites.sites_df"
   ]
  },
  {
   "cell_type": "markdown",
   "id": "6d1c44ba",
   "metadata": {},
   "source": [
    "## Exporting data\n",
    "\n",
    "Using information from the site table, we can create a text export and save it locally."
   ]
  },
  {
   "cell_type": "code",
   "execution_count": null,
   "id": "8dbf24d3-fe57-40cb-94ab-00c6622a2284",
   "metadata": {},
   "outputs": [],
   "source": [
    "exporter = nrgpy.cloud_export(\n",
    "    client_id=client_id,\n",
    "    client_secret=client_secret,\n",
    "    site_number=110,\n",
    "    start_date=\"2022-04-01\",\n",
    "    end_date=\"2022-05-15\",\n",
    ")"
   ]
  },
  {
   "cell_type": "code",
   "execution_count": null,
   "id": "9b10bc8b-da31-4e7a-9b29-afecc06d9cf9",
   "metadata": {},
   "outputs": [],
   "source": [
    "exporter.export()"
   ]
  },
  {
   "cell_type": "markdown",
   "id": "708a91e6",
   "metadata": {},
   "source": [
    "## Reading data\n",
    "\n",
    "nrgpy includes classes for reading in text data. The \"reader\" object includes organized metadata and time series data. The time series data is a Pandas dataframe object."
   ]
  },
  {
   "cell_type": "code",
   "execution_count": null,
   "id": "3a951ea0-86af-4260-b3a9-5eb8ec6a7b05",
   "metadata": {},
   "outputs": [],
   "source": [
    "reader = nrgpy.sympro_txt_read(filename=exporter.export_filepath)"
   ]
  },
  {
   "cell_type": "code",
   "execution_count": null,
   "id": "347346d9",
   "metadata": {},
   "outputs": [],
   "source": [
    "print(f\"This reader is for site {reader.site_number}\")\n",
    "print(f\"It is located at {reader.latitude}, {reader.longitude}\")"
   ]
  },
  {
   "cell_type": "markdown",
   "id": "08762396",
   "metadata": {},
   "source": [
    "## Quality\n",
    "\n",
    "There are a few quality checks built in to nrgpy. One useful function is `check_intervals`."
   ]
  },
  {
   "cell_type": "code",
   "execution_count": null,
   "id": "01c47672",
   "metadata": {},
   "outputs": [],
   "source": [
    "nrgpy.check_intervals(reader.data, return_info=False, verbose=True)"
   ]
  },
  {
   "cell_type": "code",
   "execution_count": null,
   "id": "75b69b04-4216-4458-97a7-07f0129ba902",
   "metadata": {},
   "outputs": [],
   "source": [
    "reader.ch_info #.head()"
   ]
  },
  {
   "cell_type": "markdown",
   "id": "777bfff6",
   "metadata": {},
   "source": [
    "## Plots\n",
    "\n",
    "Below are some examples of plots using the [Matplotlib](https://matplotlib.org) and [Windrose](https://github.com/python-windrose/windrose/) libraries."
   ]
  },
  {
   "cell_type": "code",
   "execution_count": null,
   "id": "461dcbb5",
   "metadata": {},
   "outputs": [],
   "source": [
    "import numpy as np\n",
    "import matplotlib.cm as cm\n",
    "import matplotlib.pyplot as plt\n",
    "import matplotlib as mpl\n",
    "from windrose import plot_windrose\n",
    "\n",
    "plt.rcParams[\"image.cmap\"] = \"plasma\""
   ]
  },
  {
   "cell_type": "code",
   "execution_count": null,
   "id": "d75b20e9-01b9-4dcf-8152-e1e062c62cdc",
   "metadata": {},
   "outputs": [],
   "source": [
    "# get the wind speed channels from the ch_info dataframe\n",
    "\n",
    "ws_channels = reader.ch_info['Channel:'].loc[reader.ch_info['Type:'] == 'Anemometer']\n",
    "\n",
    "ws_channels"
   ]
  },
  {
   "cell_type": "code",
   "execution_count": null,
   "id": "c9bdd498",
   "metadata": {},
   "outputs": [],
   "source": [
    "reader.logger_sn"
   ]
  },
  {
   "cell_type": "code",
   "execution_count": null,
   "id": "af7884c1-16aa-4ba1-9fba-02fd13286cea",
   "metadata": {},
   "outputs": [],
   "source": [
    "fig, ax = plt.subplots(figsize=(12, 5))\n",
    "\n",
    "for ch in ws_channels:\n",
    "    plot_col = [col for col in reader.data.columns if f\"Ch{ch}_\" in col and \"avg\" in col.lower()]\n",
    "    ax.plot(\n",
    "        reader.data['Timestamp'],\n",
    "        reader.data[plot_col],\n",
    "        label=plot_col,\n",
    "    )\n",
    "    \n",
    "plt.title(f\"Wind speed plot for site {reader.site_description}\")\n",
    "plt.ylabel(\"m/s\")\n",
    "plt.legend()"
   ]
  },
  {
   "cell_type": "markdown",
   "id": "b67b802e",
   "metadata": {},
   "source": [
    "## Strip plot of met sensors"
   ]
  },
  {
   "cell_type": "code",
   "execution_count": null,
   "id": "1b87fbeb",
   "metadata": {},
   "outputs": [],
   "source": [
    "met_units = [\"C\", \"%RH\", \"mb\"]\n",
    "ax_list = []\n",
    "fig, ax = plt.subplots(figsize=(16,10))\n",
    "\n",
    "for i, unit in enumerate(met_units):\n",
    "    plot_channels = reader.ch_info['Channel:'].loc[reader.ch_info['Units:'] == unit].values\n",
    "    plot_col = [col for col in reader.data.columns if f\"Ch{plot_channels[0]}_\" in col and \"avg\" in col.lower()]\n",
    "    ax_list.append(plt.subplot(int(f\"{len(met_units)}1{1+i}\")))\n",
    "    \n",
    "    plt.plot(\n",
    "        reader.data['Timestamp'],\n",
    "        reader.data[plot_col].values,\n",
    "        label=plot_col\n",
    "    )\n",
    "    plt.ylabel(unit)\n",
    "    if i == 0:\n",
    "        plt.title(f\"Strip plot for {reader.site_description}\", loc=\"center\")\n"
   ]
  },
  {
   "cell_type": "code",
   "execution_count": null,
   "id": "40602e8f",
   "metadata": {},
   "outputs": [],
   "source": [
    "reader.ch_info.loc[(reader.ch_info['Type:'] == \"Anemometer\") | (reader.ch_info['Type:'] == \"Vane\")]"
   ]
  },
  {
   "cell_type": "code",
   "execution_count": null,
   "id": "a58790c5-6131-4265-aa01-4d7749d24e5e",
   "metadata": {},
   "outputs": [],
   "source": [
    "anem_col = [col for col in reader.data.columns if \"Ch1_\" in col and \"avg\" in col.lower()]\n",
    "vane_col = [col for col in reader.data.columns if \"Ch13_\" in col and \"avg\" in col.lower()]\n",
    "\n",
    "windrose_df = pd.DataFrame()\n",
    "windrose_df['speed'] = reader.data[anem_col]\n",
    "windrose_df['direction'] = reader.data[vane_col]\n",
    "\n",
    "plot_windrose(windrose_df, kind='bar', bins=np.arange(0.01,8,1), cmap=cm.plasma, lw=3)\n",
    "\n",
    "plt.title(f\"Wind rose diagram for {reader.site_description}\")\n",
    "plt.show()"
   ]
  }
 ],
 "metadata": {
  "interpreter": {
   "hash": "0a8937c81694391020a928fa7363b0e224aef9c5f07bde0041c82ee6dc0566c9"
  },
  "kernelspec": {
   "display_name": "Python 3 (ipykernel)",
   "language": "python",
   "name": "python3"
  },
  "language_info": {
   "codemirror_mode": {
    "name": "ipython",
    "version": 3
   },
   "file_extension": ".py",
   "mimetype": "text/x-python",
   "name": "python",
   "nbconvert_exporter": "python",
   "pygments_lexer": "ipython3",
   "version": "3.10.4"
  }
 },
 "nbformat": 4,
 "nbformat_minor": 5
}
