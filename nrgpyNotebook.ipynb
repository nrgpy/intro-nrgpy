{
 "cells": [
  {
   "cell_type": "code",
   "execution_count": null,
   "id": "10d12fdb-fc54-4615-9f3f-1540e0088b79",
   "metadata": {},
   "outputs": [],
   "source": [
    "import nrgpy\n",
    "import matplotlib.pyplot as plt\n",
    "import os\n",
    "import pandas as pd"
   ]
  },
  {
   "cell_type": "code",
   "execution_count": null,
   "id": "de46725a-d3b5-47a7-bb03-0638abd3d83b",
   "metadata": {},
   "outputs": [],
   "source": [
    "client_id = \"\"\n",
    "client_secret = \"\""
   ]
  },
  {
   "cell_type": "code",
   "execution_count": null,
   "id": "a428e490-39d1-41bc-be19-ee43565aff04",
   "metadata": {},
   "outputs": [],
   "source": [
    "sites = nrgpy.cloud_sites(\n",
    "    client_id=client_id,\n",
    "    client_secret=client_secret,\n",
    ")"
   ]
  },
  {
   "cell_type": "code",
   "execution_count": null,
   "id": "242c5ad4-5ece-4934-a65e-180b2e067666",
   "metadata": {},
   "outputs": [],
   "source": [
    "sites.sites_df"
   ]
  },
  {
   "cell_type": "code",
   "execution_count": null,
   "id": "8dbf24d3-fe57-40cb-94ab-00c6622a2284",
   "metadata": {},
   "outputs": [],
   "source": [
    "exporter = nrgpy.cloud_export(\n",
    "    client_id=client_id,\n",
    "    client_secret=client_secret,\n",
    "    site_number=110,\n",
    "    start_date=\"2022-04-01\",\n",
    "    end_date=\"2022-05-15\",\n",
    ")"
   ]
  },
  {
   "cell_type": "code",
   "execution_count": null,
   "id": "9b10bc8b-da31-4e7a-9b29-afecc06d9cf9",
   "metadata": {},
   "outputs": [],
   "source": [
    "exporter.export()"
   ]
  },
  {
   "cell_type": "code",
   "execution_count": null,
   "id": "3a951ea0-86af-4260-b3a9-5eb8ec6a7b05",
   "metadata": {},
   "outputs": [],
   "source": [
    "reader = nrgpy.sympro_txt_read(filename=exporter.export_filepath)"
   ]
  },
  {
   "cell_type": "code",
   "execution_count": null,
   "id": "75b69b04-4216-4458-97a7-07f0129ba902",
   "metadata": {},
   "outputs": [],
   "source": [
    "reader.ch_info"
   ]
  },
  {
   "cell_type": "code",
   "execution_count": null,
   "id": "5e0a40db-9360-4821-86f7-35d4a0140957",
   "metadata": {},
   "outputs": [],
   "source": [
    "reader.data[\"IntervalTime\"] = pd.to_datetime(reader.data['Timestamp'])"
   ]
  },
  {
   "cell_type": "code",
   "execution_count": null,
   "id": "d75b20e9-01b9-4dcf-8152-e1e062c62cdc",
   "metadata": {},
   "outputs": [],
   "source": [
    "ws_channels = reader.ch_info['Channel:'].loc[reader.ch_info['Units:'] == 'm/s']"
   ]
  },
  {
   "cell_type": "code",
   "execution_count": null,
   "id": "0802c1c7-086f-475c-bb67-344483323b94",
   "metadata": {},
   "outputs": [],
   "source": [
    "list(reader.data.columns)"
   ]
  },
  {
   "cell_type": "code",
   "execution_count": null,
   "id": "af7884c1-16aa-4ba1-9fba-02fd13286cea",
   "metadata": {},
   "outputs": [],
   "source": [
    "fig, ax = plt.subplots(\n",
    "    figsize=(12, 5),\n",
    "    # title=f\"nrgpy plot | site {reader.site_number}, wind speed\"\n",
    ")\n",
    "\n",
    "for ch in [c for c in ws_channels if int(c) < 20]:\n",
    "    plot_col = [col for col in reader.data.columns if f\"Ch{ch}_\" in col and \"avg\" in col.lower()]\n",
    "    ax.plot(\n",
    "        reader.data['IntervalTime'],\n",
    "        reader.data[plot_col],\n",
    "    )\n",
    "    \n",
    "plt.title(f\"Wind speed plot for site {reader.site_description}\")\n",
    "plt.legend(labels=[f\"Ch{c}\" for c in ws_channels])"
   ]
  },
  {
   "cell_type": "code",
   "execution_count": null,
   "id": "a58790c5-6131-4265-aa01-4d7749d24e5e",
   "metadata": {},
   "outputs": [],
   "source": [
    "reader.data"
   ]
  }
 ],
 "metadata": {
  "kernelspec": {
   "display_name": "Python 3 (ipykernel)",
   "language": "python",
   "name": "python3"
  },
  "language_info": {
   "codemirror_mode": {
    "name": "ipython",
    "version": 3
   },
   "file_extension": ".py",
   "mimetype": "text/x-python",
   "name": "python",
   "nbconvert_exporter": "python",
   "pygments_lexer": "ipython3",
   "version": "3.10.4"
  }
 },
 "nbformat": 4,
 "nbformat_minor": 5
}
